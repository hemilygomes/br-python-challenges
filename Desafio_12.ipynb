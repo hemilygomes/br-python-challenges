{
  "cells": [
    {
      "cell_type": "markdown",
      "metadata": {
        "id": "view-in-github",
        "colab_type": "text"
      },
      "source": [
        "<a href=\"https://colab.research.google.com/github/hemilygomes/br-python-challenges/blob/master/Desafio_12.ipynb\" target=\"_parent\"><img src=\"https://colab.research.google.com/assets/colab-badge.svg\" alt=\"Open In Colab\"/></a>"
      ]
    },
    {
      "cell_type": "markdown",
      "metadata": {
        "id": "AYHY2YXQf6J2"
      },
      "source": [
        "### Desafio 12\n",
        "\n",
        "Escreva uma função em Python para verificar a validade de uma senha.\n",
        "\n",
        "A senha deve ter:\n",
        "\n",
        "* Pelo menos 1 letra entre [a-z] e 1 letra entre [A-Z].\n",
        "* Pelo menos 1 número entre [0-9].\n",
        "* Pelo menos 1 caractere de [$ # @].\n",
        "* Comprimento mínimo de 6 caracteres.\n",
        "* Comprimento máximo de 16 caracteres.\n",
        "\n",
        "Entradas: \"12345678\", \"J3sus0\", \"#Te5t300\", \"J*90j12374\", \"Michheeul\", \"Monk3y6\"\n",
        "\n",
        "A saída deve ser a senha e um texto indicando se a senha é válida ou inválida:\n",
        "\n",
        "```\n",
        "\"1234\" - Senha inválida\n",
        "\"Qw#1234\" - Senha válida\n",
        "```"
      ]
    },
    {
      "cell_type": "code",
      "execution_count": null,
      "metadata": {
        "id": "UGgtGYGGf6J3"
      },
      "outputs": [],
      "source": [
        "# Seu código"
      ]
    },
    {
      "cell_type": "code",
      "source": [
        "import string\n",
        "minusculas = list(string.ascii_lowercase)\n",
        "maiusculas = list(string.ascii_uppercase)"
      ],
      "metadata": {
        "id": "5HhkjsC6X3ha"
      },
      "execution_count": 76,
      "outputs": []
    },
    {
      "cell_type": "code",
      "source": [
        "def testar_senha(senha):\n",
        "  indice_1 = 0\n",
        "  indice_2 = 0\n",
        "  indice_3 = 0\n",
        "  indice_4 = 0\n",
        "  tamanho = len(senha)\n",
        "  if len(senha)>5 and len(senha)<17:\n",
        "    for i in range(0,tamanho):\n",
        "      if senha[i] in minusculas:\n",
        "        indice_1 += 1\n",
        "      if senha[i] in maiusculas:\n",
        "        indice_2 += 1\n",
        "      if senha[i] in ['0','1','2','3','4','5','6','7','8','9']:\n",
        "        indice_3 += 1\n",
        "      if senha[i] in ['$','#','@']:\n",
        "        indice_4 += 1\n",
        "\n",
        "  if indice_1 == 0 or indice_2 == 0 or indice_3 == 0 or indice_4 == 0:\n",
        "    print(f'{senha}: senha inválida')\n",
        "  else:\n",
        "    print(f'{senha}: senha válida')\n",
        "    return"
      ],
      "metadata": {
        "id": "HEd_fVWZYXgk"
      },
      "execution_count": 83,
      "outputs": []
    },
    {
      "cell_type": "code",
      "source": [
        "testar_senha('Qw#1234')"
      ],
      "metadata": {
        "id": "TiehbDUjY4Ig",
        "outputId": "2886bab5-51a2-4aad-be53-a545dca2d8f1",
        "colab": {
          "base_uri": "https://localhost:8080/"
        }
      },
      "execution_count": 84,
      "outputs": [
        {
          "output_type": "stream",
          "name": "stdout",
          "text": [
            "Qw#1234: senha válida\n"
          ]
        }
      ]
    },
    {
      "cell_type": "code",
      "source": [
        "testar_senha('qw#1234')"
      ],
      "metadata": {
        "id": "guGMeoDGaCEr",
        "outputId": "65491e12-6b3d-4a61-fbae-807a4f1b116b",
        "colab": {
          "base_uri": "https://localhost:8080/"
        }
      },
      "execution_count": 85,
      "outputs": [
        {
          "output_type": "stream",
          "name": "stdout",
          "text": [
            "qw#1234: senha inválida\n"
          ]
        }
      ]
    },
    {
      "cell_type": "code",
      "source": [
        "testar_senha('Qw01234')"
      ],
      "metadata": {
        "id": "uUPeBuyEa7g6",
        "outputId": "24332ab5-d978-48fa-a56b-0504337794bf",
        "colab": {
          "base_uri": "https://localhost:8080/"
        }
      },
      "execution_count": 86,
      "outputs": [
        {
          "output_type": "stream",
          "name": "stdout",
          "text": [
            "Qw01234: senha inválida\n"
          ]
        }
      ]
    },
    {
      "cell_type": "code",
      "source": [
        "testar_senha('Qw#abcd')"
      ],
      "metadata": {
        "id": "Le0tRiLFkcZd",
        "outputId": "bbf8a398-b7a0-4e2d-acea-6b7356b1fcf2",
        "colab": {
          "base_uri": "https://localhost:8080/"
        }
      },
      "execution_count": 87,
      "outputs": [
        {
          "output_type": "stream",
          "name": "stdout",
          "text": [
            "Qw#abcd: senha inválida\n"
          ]
        }
      ]
    },
    {
      "cell_type": "code",
      "source": [
        "testar_senha('Qw#12')"
      ],
      "metadata": {
        "id": "56BIOw4AkpeH",
        "outputId": "981fa3ed-6c16-4fd4-e971-bb271d1fefbe",
        "colab": {
          "base_uri": "https://localhost:8080/"
        }
      },
      "execution_count": 89,
      "outputs": [
        {
          "output_type": "stream",
          "name": "stdout",
          "text": [
            "Qw#12: senha inválida\n"
          ]
        }
      ]
    },
    {
      "cell_type": "code",
      "source": [
        "testar_senha('Qw#12345678901234')"
      ],
      "metadata": {
        "id": "LO3DEKnMkw1Z",
        "outputId": "1ff71dc1-4583-4da7-cd80-d14964c8e8d7",
        "colab": {
          "base_uri": "https://localhost:8080/"
        }
      },
      "execution_count": 94,
      "outputs": [
        {
          "output_type": "stream",
          "name": "stdout",
          "text": [
            "Qw#12345678901234: senha inválida\n"
          ]
        }
      ]
    },
    {
      "cell_type": "code",
      "source": [
        "testar_senha('Qw#1234567890123')"
      ],
      "metadata": {
        "id": "GlFgjRhtk8tR",
        "outputId": "0898478e-7806-4104-8ed4-4f83b38ea8fa",
        "colab": {
          "base_uri": "https://localhost:8080/"
        }
      },
      "execution_count": 95,
      "outputs": [
        {
          "output_type": "stream",
          "name": "stdout",
          "text": [
            "Qw#1234567890123: senha válida\n"
          ]
        }
      ]
    },
    {
      "cell_type": "code",
      "source": [
        ""
      ],
      "metadata": {
        "id": "bZL6ooIslK2y"
      },
      "execution_count": null,
      "outputs": []
    }
  ],
  "metadata": {
    "anaconda-cloud": {},
    "colab": {
      "name": "Desafio 12.ipynb",
      "provenance": [],
      "include_colab_link": true
    },
    "kernelspec": {
      "display_name": "Python 3",
      "language": "python",
      "name": "python3"
    },
    "language_info": {
      "codemirror_mode": {
        "name": "ipython",
        "version": 3
      },
      "file_extension": ".py",
      "mimetype": "text/x-python",
      "name": "python",
      "nbconvert_exporter": "python",
      "pygments_lexer": "ipython3",
      "version": "3.7.9"
    }
  },
  "nbformat": 4,
  "nbformat_minor": 0
}