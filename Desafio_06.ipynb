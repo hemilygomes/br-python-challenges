{
  "cells": [
    {
      "cell_type": "markdown",
      "metadata": {
        "id": "view-in-github",
        "colab_type": "text"
      },
      "source": [
        "<a href=\"https://colab.research.google.com/github/hemilygomes/br-python-challenges/blob/master/Desafio_06.ipynb\" target=\"_parent\"><img src=\"https://colab.research.google.com/assets/colab-badge.svg\" alt=\"Open In Colab\"/></a>"
      ]
    },
    {
      "cell_type": "markdown",
      "metadata": {
        "id": "AiI1_KNTf6Jh"
      },
      "source": [
        "### Desafio 6\n",
        "\n",
        "Crie uma função que receba duas listas e retorne uma lista que contenha apenas os elementos comuns entre as listas (sem repetição). A função deve suportar lista de tamanhos diferentes.\n"
      ]
    },
    {
      "cell_type": "markdown",
      "metadata": {
        "id": "ZVXAJ8afjrG1"
      },
      "source": [
        "**Listas**"
      ]
    },
    {
      "cell_type": "code",
      "execution_count": 1,
      "metadata": {
        "id": "JdFyqYFDjrG2"
      },
      "outputs": [],
      "source": [
        "a = [1, 1, 2, 3, 5, 8, 13, 21, 34, 55, 89]\n",
        "b = [1, 2, 3, 4, 5, 6, 7, 8, 9, 10, 11, 12, 13]"
      ]
    },
    {
      "cell_type": "code",
      "execution_count": null,
      "metadata": {
        "id": "mvxpy_vCf6Jh"
      },
      "outputs": [],
      "source": [
        "# Seu código"
      ]
    },
    {
      "cell_type": "code",
      "source": [
        "def interseccao(a,b):\n",
        "  set_int = set(a) & set(b)\n",
        "  return list(set_int)"
      ],
      "metadata": {
        "id": "jeNaqn8Pj7e_"
      },
      "execution_count": 5,
      "outputs": []
    },
    {
      "cell_type": "code",
      "source": [
        "interseccao(a,b)"
      ],
      "metadata": {
        "id": "xjti8b_Nj7cK",
        "outputId": "75a68caf-7e91-401c-b414-e162f1067126",
        "colab": {
          "base_uri": "https://localhost:8080/"
        }
      },
      "execution_count": 6,
      "outputs": [
        {
          "output_type": "execute_result",
          "data": {
            "text/plain": [
              "[1, 2, 3, 5, 8, 13]"
            ]
          },
          "metadata": {},
          "execution_count": 6
        }
      ]
    }
  ],
  "metadata": {
    "anaconda-cloud": {},
    "colab": {
      "name": "Desafio 6.ipynb",
      "provenance": [],
      "include_colab_link": true
    },
    "kernelspec": {
      "display_name": "Python 3",
      "language": "python",
      "name": "python3"
    },
    "language_info": {
      "codemirror_mode": {
        "name": "ipython",
        "version": 3
      },
      "file_extension": ".py",
      "mimetype": "text/x-python",
      "name": "python",
      "nbconvert_exporter": "python",
      "pygments_lexer": "ipython3",
      "version": "3.7.9"
    }
  },
  "nbformat": 4,
  "nbformat_minor": 0
}