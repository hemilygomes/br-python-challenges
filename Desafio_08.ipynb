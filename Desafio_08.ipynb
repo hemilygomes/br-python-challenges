{
  "cells": [
    {
      "cell_type": "markdown",
      "metadata": {
        "id": "view-in-github",
        "colab_type": "text"
      },
      "source": [
        "<a href=\"https://colab.research.google.com/github/hemilygomes/br-python-challenges/blob/master/Desafio_08.ipynb\" target=\"_parent\"><img src=\"https://colab.research.google.com/assets/colab-badge.svg\" alt=\"Open In Colab\"/></a>"
      ]
    },
    {
      "cell_type": "markdown",
      "metadata": {
        "id": "o3tkeMDNf6Jo"
      },
      "source": [
        "### Desafio 8\n",
        "\n",
        "Escreva um script Python para encontrar as 10 palavras mais longas em um arquivo de texto.\n",
        "O arquivo .txt está localizado na mesma pasta do projeto (**texto.txt**)."
      ]
    },
    {
      "cell_type": "code",
      "execution_count": null,
      "metadata": {
        "id": "EknxjSG0f6Jo"
      },
      "outputs": [],
      "source": [
        "# Seu código"
      ]
    },
    {
      "cell_type": "code",
      "source": [
        "from google.colab import drive\n",
        "drive.mount('/content/drive')"
      ],
      "metadata": {
        "id": "ANI8bdbvo6Rs",
        "outputId": "31a8587a-abf4-4997-d07e-7dff8a7d24f1",
        "colab": {
          "base_uri": "https://localhost:8080/"
        }
      },
      "execution_count": 25,
      "outputs": [
        {
          "output_type": "stream",
          "name": "stdout",
          "text": [
            "Mounted at /content/drive\n"
          ]
        }
      ]
    },
    {
      "cell_type": "code",
      "source": [
        "with open('/content/drive/MyDrive/Base_dados/texto.txt','r') as f:\n",
        "  texto = f.read()"
      ],
      "metadata": {
        "id": "axF-r7HCnRXg"
      },
      "execution_count": 31,
      "outputs": []
    },
    {
      "cell_type": "code",
      "source": [
        "texto = texto.replace('\\n',' ').replace('-',' ').replace('  ',' ').replace(',',' ').replace('.',' ').replace('?',' ').replace('(','').replace(')','')\n",
        "palavras = texto.split()"
      ],
      "metadata": {
        "id": "bS1KNT4H221N"
      },
      "execution_count": 85,
      "outputs": []
    },
    {
      "cell_type": "code",
      "source": [
        "dic = {}\n",
        "for palavra in palavras:\n",
        "  tamanho = len(palavra)\n",
        "  dic[palavra]=tamanho"
      ],
      "metadata": {
        "id": "hIyi3DaG22yw"
      },
      "execution_count": 86,
      "outputs": []
    },
    {
      "cell_type": "code",
      "source": [
        "lista_decresc = sorted(dic, key = dic.get, reverse=True)\n",
        "lista_10 = lista_decresc[0:9]\n",
        "lista_10"
      ],
      "metadata": {
        "id": "D--MTBht22v7",
        "outputId": "49e02ca4-1511-4ebd-eb29-f02fc7186810",
        "colab": {
          "base_uri": "https://localhost:8080/"
        }
      },
      "execution_count": 89,
      "outputs": [
        {
          "output_type": "execute_result",
          "data": {
            "text/plain": [
              "['comprehensive',\n",
              " 'intermediate',\n",
              " 'interpreted',\n",
              " 'programming',\n",
              " 'readability',\n",
              " 'programmers',\n",
              " 'philosophy',\n",
              " 'emphasizes',\n",
              " 'imperative']"
            ]
          },
          "metadata": {},
          "execution_count": 89
        }
      ]
    }
  ],
  "metadata": {
    "anaconda-cloud": {},
    "colab": {
      "name": "Desafio 8.ipynb",
      "provenance": [],
      "include_colab_link": true
    },
    "kernelspec": {
      "display_name": "Python 3",
      "language": "python",
      "name": "python3"
    },
    "language_info": {
      "codemirror_mode": {
        "name": "ipython",
        "version": 3
      },
      "file_extension": ".py",
      "mimetype": "text/x-python",
      "name": "python",
      "nbconvert_exporter": "python",
      "pygments_lexer": "ipython3",
      "version": "3.7.9"
    }
  },
  "nbformat": 4,
  "nbformat_minor": 0
}